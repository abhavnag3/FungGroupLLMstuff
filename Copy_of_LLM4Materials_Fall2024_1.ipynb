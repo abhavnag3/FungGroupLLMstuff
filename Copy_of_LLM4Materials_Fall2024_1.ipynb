{
  "nbformat": 4,
  "nbformat_minor": 0,
  "metadata": {
    "colab": {
      "provenance": []
    },
    "kernelspec": {
      "name": "python3",
      "display_name": "Python 3"
    },
    "language_info": {
      "name": "python"
    }
  },
  "cells": [
    {
      "cell_type": "markdown",
      "source": [
        "# VIP Fall 2024\n",
        "# Fine-tuning LLMs for Materials\n",
        "Our sub-group is going to focus on fine-tuning LLMs to generate crystal structures. The key idea is that when we give the fine-tuned LLM a prompt, it should be able to output a textual representation of a crystal structure (which we will then decode into an actual 3D structure, if needed).\n",
        "\n",
        "# Tutorial I"
      ],
      "metadata": {
        "id": "WDKW2AyIEGPq"
      }
    },
    {
      "cell_type": "markdown",
      "source": [
        "# 1. Textual Representations of Crystal Materials\n",
        "In general, a crystal structure is stored in the [CIF](https://en.wikipedia.org/wiki/Crystallographic_Information_File) format. One can view it using the Software [VESTA](https://jp-minerals.org/vesta/en/download.html) or you can also upload your CIF file on this [website](https://next-gen.materialsproject.org/toolkit) for an interactive visualization (login required).\n",
        "\n",
        "This notebook explores 2 different text-based representations of crystal materials:\n",
        "\n",
        "1. CIF\n",
        "2. SLICES"
      ],
      "metadata": {
        "id": "lcWTEfpWEz9z"
      }
    },
    {
      "cell_type": "markdown",
      "source": [
        "## 1.1 Setting Up"
      ],
      "metadata": {
        "id": "qmDdgXQZH1pO"
      }
    },
    {
      "cell_type": "code",
      "source": [
        "# The Atomic Simulation Environment (ASE) is a package for setting up,\n",
        "# manipulating, running, visualizing and analyzing atomistic simulations.\n",
        "# see more: https://wiki.fysik.dtu.dk/ase/index.html\n",
        "!pip install ase"
      ],
      "metadata": {
        "id": "c7EU23uJIpBp",
        "colab": {
          "base_uri": "https://localhost:8080/"
        },
        "outputId": "e0abb460-f710-41fe-c310-d89242f77065"
      },
      "execution_count": null,
      "outputs": [
        {
          "output_type": "stream",
          "name": "stdout",
          "text": [
            "Collecting ase\n",
            "  Downloading ase-3.23.0-py3-none-any.whl.metadata (3.8 kB)\n",
            "Requirement already satisfied: numpy>=1.18.5 in /usr/local/lib/python3.10/dist-packages (from ase) (1.26.4)\n",
            "Requirement already satisfied: scipy>=1.6.0 in /usr/local/lib/python3.10/dist-packages (from ase) (1.13.1)\n",
            "Requirement already satisfied: matplotlib>=3.3.4 in /usr/local/lib/python3.10/dist-packages (from ase) (3.7.1)\n",
            "Requirement already satisfied: contourpy>=1.0.1 in /usr/local/lib/python3.10/dist-packages (from matplotlib>=3.3.4->ase) (1.3.0)\n",
            "Requirement already satisfied: cycler>=0.10 in /usr/local/lib/python3.10/dist-packages (from matplotlib>=3.3.4->ase) (0.12.1)\n",
            "Requirement already satisfied: fonttools>=4.22.0 in /usr/local/lib/python3.10/dist-packages (from matplotlib>=3.3.4->ase) (4.53.1)\n",
            "Requirement already satisfied: kiwisolver>=1.0.1 in /usr/local/lib/python3.10/dist-packages (from matplotlib>=3.3.4->ase) (1.4.7)\n",
            "Requirement already satisfied: packaging>=20.0 in /usr/local/lib/python3.10/dist-packages (from matplotlib>=3.3.4->ase) (24.1)\n",
            "Requirement already satisfied: pillow>=6.2.0 in /usr/local/lib/python3.10/dist-packages (from matplotlib>=3.3.4->ase) (10.4.0)\n",
            "Requirement already satisfied: pyparsing>=2.3.1 in /usr/local/lib/python3.10/dist-packages (from matplotlib>=3.3.4->ase) (3.1.4)\n",
            "Requirement already satisfied: python-dateutil>=2.7 in /usr/local/lib/python3.10/dist-packages (from matplotlib>=3.3.4->ase) (2.8.2)\n",
            "Requirement already satisfied: six>=1.5 in /usr/local/lib/python3.10/dist-packages (from python-dateutil>=2.7->matplotlib>=3.3.4->ase) (1.16.0)\n",
            "Downloading ase-3.23.0-py3-none-any.whl (2.9 MB)\n",
            "\u001b[2K   \u001b[90m━━━━━━━━━━━━━━━━━━━━━━━━━━━━━━━━━━━━━━━━\u001b[0m \u001b[32m2.9/2.9 MB\u001b[0m \u001b[31m11.5 MB/s\u001b[0m eta \u001b[36m0:00:00\u001b[0m\n",
            "\u001b[?25hInstalling collected packages: ase\n",
            "Successfully installed ase-3.23.0\n"
          ]
        }
      ]
    },
    {
      "cell_type": "code",
      "source": [
        "import ase\n",
        "import ase.io\n",
        "import numpy as np\n",
        "from glob import glob"
      ],
      "metadata": {
        "id": "jQGk566PJQcY"
      },
      "execution_count": null,
      "outputs": []
    },
    {
      "cell_type": "code",
      "source": [
        "# download zip file containing some CIF files\n",
        "!wget https://github.com/shuyijia/crystal-data/raw/main/MP-20/raw_val.zip\n",
        "\n",
        "# unzip silently\n",
        "!unzip -q raw_val.zip"
      ],
      "metadata": {
        "id": "-lXUaFrTH04o",
        "colab": {
          "base_uri": "https://localhost:8080/"
        },
        "outputId": "70b617ea-b38a-4a01-801c-067ff87fa876"
      },
      "execution_count": null,
      "outputs": [
        {
          "output_type": "stream",
          "name": "stdout",
          "text": [
            "--2024-09-30 02:07:04--  https://github.com/shuyijia/crystal-data/raw/main/MP-20/raw_val.zip\n",
            "Resolving github.com (github.com)... 140.82.112.3\n",
            "Connecting to github.com (github.com)|140.82.112.3|:443... connected.\n",
            "HTTP request sent, awaiting response... 302 Found\n",
            "Location: https://raw.githubusercontent.com/shuyijia/crystal-data/main/MP-20/raw_val.zip [following]\n",
            "--2024-09-30 02:07:05--  https://raw.githubusercontent.com/shuyijia/crystal-data/main/MP-20/raw_val.zip\n",
            "Resolving raw.githubusercontent.com (raw.githubusercontent.com)... 185.199.108.133, 185.199.109.133, 185.199.110.133, ...\n",
            "Connecting to raw.githubusercontent.com (raw.githubusercontent.com)|185.199.108.133|:443... connected.\n",
            "HTTP request sent, awaiting response... 200 OK\n",
            "Length: 5224067 (5.0M) [application/zip]\n",
            "Saving to: ‘raw_val.zip’\n",
            "\n",
            "raw_val.zip         100%[===================>]   4.98M  --.-KB/s    in 0.08s   \n",
            "\n",
            "2024-09-30 02:07:05 (59.8 MB/s) - ‘raw_val.zip’ saved [5224067/5224067]\n",
            "\n"
          ]
        }
      ]
    },
    {
      "cell_type": "markdown",
      "source": [
        "We have downloaded a folder of CIF files in the current directory. You can view it by using the file explorer on the left panel. Alternatively, we can also use `glob`. Let us count the number of CIF files we have downloaded."
      ],
      "metadata": {
        "id": "VNBoJniHJhg6"
      }
    },
    {
      "cell_type": "code",
      "source": [
        "cif_path = \"raw_val\"\n",
        "cif_files = glob(f\"{cif_path}/*.cif\")\n",
        "cif_files.sort()\n",
        "\n",
        "print(f\"Number of CIF files: {len(cif_files)}\")"
      ],
      "metadata": {
        "id": "p2QOOjGfIliP",
        "colab": {
          "base_uri": "https://localhost:8080/"
        },
        "outputId": "2661504f-2807-4864-a31a-5daf1564c5f8"
      },
      "execution_count": null,
      "outputs": [
        {
          "output_type": "stream",
          "name": "stdout",
          "text": [
            "Number of CIF files: 9047\n"
          ]
        }
      ]
    },
    {
      "cell_type": "markdown",
      "source": [
        "## 1.2 Looking at a single CIF file"
      ],
      "metadata": {
        "id": "nPB6vA4AKEhE"
      }
    },
    {
      "cell_type": "code",
      "source": [
        "cif_file = cif_files[0]\n",
        "print(f\"CIF file: {cif_file}\")"
      ],
      "metadata": {
        "id": "PSHNdtN_KBQu",
        "colab": {
          "base_uri": "https://localhost:8080/"
        },
        "outputId": "8e56f497-92e6-4e31-d435-a8d2c8af8f3d"
      },
      "execution_count": null,
      "outputs": [
        {
          "output_type": "stream",
          "name": "stdout",
          "text": [
            "CIF file: raw_val/mp-10015.cif\n"
          ]
        }
      ]
    },
    {
      "cell_type": "code",
      "source": [
        "# load it with ase\n",
        "# crystal structure is loaded as an ase.atoms.Atoms object\n",
        "atoms = ase.io.read(cif_file)\n",
        "\n",
        "print(type(atoms))"
      ],
      "metadata": {
        "id": "XSSy9jwPKLip",
        "colab": {
          "base_uri": "https://localhost:8080/"
        },
        "outputId": "d8353ab3-403f-4514-ae14-68f7d9198184"
      },
      "execution_count": null,
      "outputs": [
        {
          "output_type": "stream",
          "name": "stdout",
          "text": [
            "<class 'ase.atoms.Atoms'>\n"
          ]
        }
      ]
    },
    {
      "cell_type": "code",
      "source": [
        "# view the structure with ase\n",
        "# you can drag the visualizer!\n",
        "\n",
        "from ase.visualize import view\n",
        "\n",
        "\n",
        "atoms_repeated = atoms.repeat((2, 2, 2))  # Replicate the unit cell in all 3 dimensions\n",
        "#view(atoms_repeated, viewer='x3d')\n",
        "view(atoms, viewer='x3d')"
      ],
      "metadata": {
        "id": "ij9ybvWGNXfA",
        "colab": {
          "base_uri": "https://localhost:8080/",
          "height": 317
        },
        "outputId": "d4f5ca01-47b7-4c95-dcf1-c49aa330b3e5"
      },
      "execution_count": null,
      "outputs": [
        {
          "output_type": "execute_result",
          "data": {
            "text/plain": [
              "<IPython.core.display.HTML object>"
            ],
            "text/html": [
              "<html>\n",
              "    <head>\n",
              "        <title>ASE atomic visualization</title>\n",
              "        <link rel=\"stylesheet\" type=\"text/css\"             href=\"https://www.x3dom.org/release/x3dom.css\"></link>\n",
              "        <script type=\"text/javascript\"             src=\"https://www.x3dom.org/release/x3dom.js\"></script>\n",
              "    </head>\n",
              "    <body>\n",
              "        <X3D width=\"400px\"; height=\"300px\";>\n",
              "\n",
              "<!--Inserting Generated X3D Scene-->\n",
              "<scene>\n",
              "  <viewpoint position=\"0 0 5.91858\">\n",
              "    <group/>\n",
              "  </viewpoint>\n",
              "  <transform translation=\"-1.479645 -1.479645 -1.479645\">\n",
              "    <group>\n",
              "      <group>\n",
              "        <transform translation=\"0 0 0\">\n",
              "          <shape>\n",
              "            <appearance>\n",
              "              <material diffuseColor=\"0 0 0\"/>\n",
              "            </appearance>\n",
              "            <lineset vertexCount=\"5\">\n",
              "              <coordinate point=\"0 0 0 2.95929 0.0 0.0 2.95929 2.95929 0.0 0.0 2.95929 0.0 0 0 0\"/>\n",
              "            </lineset>\n",
              "          </shape>\n",
              "        </transform>\n",
              "        <transform translation=\"0.0 0.0 2.95929\">\n",
              "          <shape>\n",
              "            <appearance>\n",
              "              <material diffuseColor=\"0 0 0\"/>\n",
              "            </appearance>\n",
              "            <lineset vertexCount=\"5\">\n",
              "              <coordinate point=\"0 0 0 2.95929 0.0 0.0 2.95929 2.95929 0.0 0.0 2.95929 0.0 0 0 0\"/>\n",
              "            </lineset>\n",
              "          </shape>\n",
              "        </transform>\n",
              "        <transform translation=\"0 0 0\">\n",
              "          <shape>\n",
              "            <appearance>\n",
              "              <material diffuseColor=\"0 0 0\"/>\n",
              "            </appearance>\n",
              "            <lineset vertexCount=\"5\">\n",
              "              <coordinate point=\"0 0 0 2.95929 0.0 0.0 2.95929 0.0 2.95929 0.0 0.0 2.95929 0 0 0\"/>\n",
              "            </lineset>\n",
              "          </shape>\n",
              "        </transform>\n",
              "        <transform translation=\"0.0 2.95929 0.0\">\n",
              "          <shape>\n",
              "            <appearance>\n",
              "              <material diffuseColor=\"0 0 0\"/>\n",
              "            </appearance>\n",
              "            <lineset vertexCount=\"5\">\n",
              "              <coordinate point=\"0 0 0 2.95929 0.0 0.0 2.95929 0.0 2.95929 0.0 0.0 2.95929 0 0 0\"/>\n",
              "            </lineset>\n",
              "          </shape>\n",
              "        </transform>\n",
              "      </group>\n",
              "      <group>\n",
              "        <transform translation=\"1.479645 1.479645 1.479645\">\n",
              "          <shape>\n",
              "            <appearance>\n",
              "              <material diffuseColor=\"0.941 0.784 0.627\"/>\n",
              "            </appearance>\n",
              "            <sphere radius=\"1.11\"/>\n",
              "          </shape>\n",
              "        </transform>\n",
              "        <transform translation=\"0.0 0.0 0.0\">\n",
              "          <shape>\n",
              "            <appearance>\n",
              "              <material diffuseColor=\"0.149 0.4 0.588\"/>\n",
              "            </appearance>\n",
              "            <sphere radius=\"1.44\"/>\n",
              "          </shape>\n",
              "        </transform>\n",
              "      </group>\n",
              "    </group>\n",
              "  </transform>\n",
              "</scene>\n",
              "<!--End of Inserted Scene-->\n",
              "\n",
              "        </X3D>\n",
              "    </body>\n",
              "</html>\n",
              "\n"
            ]
          },
          "metadata": {},
          "execution_count": 7
        }
      ]
    },
    {
      "cell_type": "markdown",
      "source": [
        "Each crystal structure is defined (completely) by the following 3 attributes:\n",
        "1. Atomic numbers, $(N,)$\n",
        "2. Atomic coordinates, $(N,3)$\n",
        "3. Lattice parameters, $(6,)$\n",
        "\n",
        "Let's get these attributes from the `atoms` object."
      ],
      "metadata": {
        "id": "W87DwbFDKU3V"
      }
    },
    {
      "cell_type": "code",
      "source": [
        "# atomic numbers\n",
        "atomic_numbers = atoms.get_atomic_numbers()\n",
        "# atomic symbols\n",
        "atomic_symbols = atoms.get_chemical_symbols()\n",
        "\n",
        "print(f\"Atomic numbers:\\n{atomic_numbers}\")\n",
        "print(f\"Atomic symbols:\\n{atomic_symbols}\")"
      ],
      "metadata": {
        "id": "s91g9TqRKRFX",
        "colab": {
          "base_uri": "https://localhost:8080/"
        },
        "outputId": "7a0ac3b6-7eab-43be-b64d-521acf0f25dd"
      },
      "execution_count": null,
      "outputs": [
        {
          "output_type": "stream",
          "name": "stdout",
          "text": [
            "Atomic numbers:\n",
            "[14 76]\n",
            "Atomic symbols:\n",
            "['Si', 'Os']\n"
          ]
        }
      ]
    },
    {
      "cell_type": "code",
      "source": [
        "# atomic coordinates\n",
        "atomic_coordinates = atoms.get_positions()\n",
        "fractional_coordinates = atoms.get_scaled_positions() # scaled positions in [0,1)\n",
        "print(f\"Atomic coordinates:\\n{atomic_coordinates}\")\n",
        "print(f\"Fractional coordinates:\\n{fractional_coordinates}\")"
      ],
      "metadata": {
        "id": "F3BMf4z4KRsu",
        "colab": {
          "base_uri": "https://localhost:8080/"
        },
        "outputId": "1572f044-c46c-4690-f10b-4daee0b5b5c6"
      },
      "execution_count": null,
      "outputs": [
        {
          "output_type": "stream",
          "name": "stdout",
          "text": [
            "Atomic coordinates:\n",
            "[[1.479645 1.479645 1.479645]\n",
            " [0.       0.       0.      ]]\n",
            "Fractional coordinates:\n",
            "[[0.5 0.5 0.5]\n",
            " [0.  0.  0. ]]\n"
          ]
        }
      ]
    },
    {
      "cell_type": "code",
      "source": [
        "# lattice parameters\n",
        "lattice_parameters = atoms.cell.cellpar()\n",
        "\n",
        "print(f\"Lattice lengths:\\n{lattice_parameters[:3]}\")\n",
        "print(f\"Lattice angles:\\n{lattice_parameters[3:]}\")"
      ],
      "metadata": {
        "id": "_QBL6cH0K-wM",
        "colab": {
          "base_uri": "https://localhost:8080/"
        },
        "outputId": "20c0ca03-141f-47f0-e887-572dff7f579c"
      },
      "execution_count": null,
      "outputs": [
        {
          "output_type": "stream",
          "name": "stdout",
          "text": [
            "Lattice lengths:\n",
            "[2.95929 2.95929 2.95929]\n",
            "Lattice angles:\n",
            "[90. 90. 90.]\n"
          ]
        }
      ]
    },
    {
      "cell_type": "markdown",
      "source": [
        "# 2 CIF Representation used by Crystal-text-LLM (Meta Research)\n",
        "\n",
        "The leftmost panel in the following figure shows the textual representation used by [Gruver et al. (2024)](https://arxiv.org/abs/2402.04379).\n",
        "\n",
        "![](https://github.com/facebookresearch/crystal-text-llm/blob/main/assets/crystal_llm_graphic.png?raw=true)\n",
        "\n",
        "Upon inspection, you will notice that their representation is fairly close to the raw CIF representation:\n",
        "- the first line encodes lattice lengths,\n",
        "- the second line encodes lattice angles,\n",
        "- Every two lines afterwards encode an atom, followed by its fractional coordinates."
      ],
      "metadata": {
        "id": "tpI60OANL5qx"
      }
    },
    {
      "cell_type": "markdown",
      "source": [
        "## TODO: Exercise I\n",
        "Complete the following function which takes in an `ase.atoms.Atoms` object and outputs a string representation similar to that in Crystal-text-LLM (figure above).\n",
        "\n",
        "Note the following:\n",
        "\n",
        "1. lengths should be rounded to 1 decimals\n",
        "2. Angles should be rounded to the nearest integer\n",
        "3. Coordinates should be rounded to 2 decimals\n",
        "4. Output a single string; for a new line, use `\\n`."
      ],
      "metadata": {
        "id": "L1RXYCRwN7JR"
      }
    },
    {
      "cell_type": "code",
      "source": [
        "def cif_to_text(atoms):\n",
        "  cif_string = \"\"\n",
        "  # complete this function\n",
        "\n",
        "  lattice_lengths = atoms.cell.cellpar()[:3]\n",
        "  lattice_angles = atoms.cell.cellpar()[3:]\n",
        "\n",
        "  cif_string += ' '.join(map(str, lattice_lengths))\n",
        "  cif_string += '\\n'\n",
        "  cif_string += ' '.join(map(str, lattice_angles))\n",
        "  cif_string += \"\\n\"\n",
        "\n",
        "  atom_symbols = atoms.get_chemical_symbols()\n",
        "  atom_fc = atoms.get_scaled_positions()\n",
        "\n",
        "  symb_and_coord = []\n",
        "\n",
        "  for i in range(len(atom_symbols)):\n",
        "    cif_string += atom_symbols[i]\n",
        "    cif_string += \"\\n\"\n",
        "    cif_string += ' '.join(map(str, atom_fc[i]))\n",
        "    cif_string += \"\\n\"\n",
        "  return cif_string"
      ],
      "metadata": {
        "id": "DFza4tpaOKIC"
      },
      "execution_count": null,
      "outputs": []
    },
    {
      "cell_type": "code",
      "source": [
        "# test your function\n",
        "# does it match the Crystal-text-LLM format?\n",
        "cif_string = cif_to_text(atoms)\n",
        "print(cif_string)"
      ],
      "metadata": {
        "id": "t-aE8Ss2PJ3a",
        "colab": {
          "base_uri": "https://localhost:8080/"
        },
        "outputId": "2086090c-9ed8-4f1e-9386-201423340a62"
      },
      "execution_count": null,
      "outputs": [
        {
          "output_type": "stream",
          "name": "stdout",
          "text": [
            "2.95929 2.95929 2.95929\n",
            "90.0 90.0 90.0\n",
            "Si\n",
            "0.5 0.5 0.5\n",
            "Os\n",
            "0.0 0.0 0.0\n",
            "\n"
          ]
        }
      ]
    },
    {
      "cell_type": "markdown",
      "source": [
        "# 3 SLICES Representation\n",
        "Simplified Line-Input Crystal-Encoding System ([SLICES](https://github.com/xiaohang007/SLICES.git)) is an invertible and invariant crystal representation.\n"
      ],
      "metadata": {
        "id": "n738KzUgPWCX"
      }
    },
    {
      "cell_type": "code",
      "source": [
        "# install\n",
        "# you might see an error on pip's dependency solver;\n",
        "# it should be fine for the purpose of this notebook.\n",
        "!pip install slices pymatgen --quiet"
      ],
      "metadata": {
        "id": "VRHBrEbWPa_K",
        "colab": {
          "base_uri": "https://localhost:8080/"
        },
        "outputId": "340fa49b-9f7a-4538-f473-883a2694e8e6"
      },
      "execution_count": null,
      "outputs": [
        {
          "output_type": "stream",
          "name": "stdout",
          "text": [
            "\u001b[2K     \u001b[90m━━━━━━━━━━━━━━━━━━━━━━━━━━━━━━━━━━━━━━━━\u001b[0m \u001b[32m16.4/16.4 MB\u001b[0m \u001b[31m4.3 MB/s\u001b[0m eta \u001b[36m0:00:00\u001b[0m\n",
            "\u001b[?25h  Preparing metadata (setup.py) ... \u001b[?25l\u001b[?25hdone\n",
            "\u001b[2K     \u001b[90m━━━━━━━━━━━━━━━━━━━━━━━━━━━━━━━━━━━━━━━━\u001b[0m \u001b[32m60.6/60.6 kB\u001b[0m \u001b[31m3.9 MB/s\u001b[0m eta \u001b[36m0:00:00\u001b[0m\n",
            "\u001b[?25h  Preparing metadata (setup.py) ... \u001b[?25l\u001b[?25hdone\n",
            "\u001b[2K   \u001b[90m━━━━━━━━━━━━━━━━━━━━━━━━━━━━━━━━━━━━━━━━\u001b[0m \u001b[32m10.0/10.0 MB\u001b[0m \u001b[31m28.1 MB/s\u001b[0m eta \u001b[36m0:00:00\u001b[0m\n",
            "\u001b[2K   \u001b[90m━━━━━━━━━━━━━━━━━━━━━━━━━━━━━━━━━━━━━━━━\u001b[0m \u001b[32m2.2/2.2 MB\u001b[0m \u001b[31m36.6 MB/s\u001b[0m eta \u001b[36m0:00:00\u001b[0m\n",
            "\u001b[2K   \u001b[90m━━━━━━━━━━━━━━━━━━━━━━━━━━━━━━━━━━━━━━━━\u001b[0m \u001b[32m9.2/9.2 MB\u001b[0m \u001b[31m28.4 MB/s\u001b[0m eta \u001b[36m0:00:00\u001b[0m\n",
            "\u001b[2K   \u001b[90m━━━━━━━━━━━━━━━━━━━━━━━━━━━━━━━━━━━━━━━━\u001b[0m \u001b[32m285.1/285.1 kB\u001b[0m \u001b[31m19.3 MB/s\u001b[0m eta \u001b[36m0:00:00\u001b[0m\n",
            "\u001b[2K   \u001b[90m━━━━━━━━━━━━━━━━━━━━━━━━━━━━━━━━━━━━━━━━\u001b[0m \u001b[32m10.8/10.8 MB\u001b[0m \u001b[31m80.4 MB/s\u001b[0m eta \u001b[36m0:00:00\u001b[0m\n",
            "\u001b[2K   \u001b[90m━━━━━━━━━━━━━━━━━━━━━━━━━━━━━━━━━━━━━━━━\u001b[0m \u001b[32m38.6/38.6 MB\u001b[0m \u001b[31m17.8 MB/s\u001b[0m eta \u001b[36m0:00:00\u001b[0m\n",
            "\u001b[2K   \u001b[90m━━━━━━━━━━━━━━━━━━━━━━━━━━━━━━━━━━━━━━━━\u001b[0m \u001b[32m131.4/131.4 kB\u001b[0m \u001b[31m9.6 MB/s\u001b[0m eta \u001b[36m0:00:00\u001b[0m\n",
            "\u001b[2K   \u001b[90m━━━━━━━━━━━━━━━━━━━━━━━━━━━━━━━━━━━━━━━━\u001b[0m \u001b[32m475.2/475.2 MB\u001b[0m \u001b[31m3.4 MB/s\u001b[0m eta \u001b[36m0:00:00\u001b[0m\n",
            "\u001b[2K   \u001b[90m━━━━━━━━━━━━━━━━━━━━━━━━━━━━━━━━━━━━━━━━\u001b[0m \u001b[32m48.9/48.9 kB\u001b[0m \u001b[31m3.2 MB/s\u001b[0m eta \u001b[36m0:00:00\u001b[0m\n",
            "\u001b[2K   \u001b[90m━━━━━━━━━━━━━━━━━━━━━━━━━━━━━━━━━━━━━━━━\u001b[0m \u001b[32m332.3/332.3 kB\u001b[0m \u001b[31m23.8 MB/s\u001b[0m eta \u001b[36m0:00:00\u001b[0m\n",
            "\u001b[2K   \u001b[90m━━━━━━━━━━━━━━━━━━━━━━━━━━━━━━━━━━━━━━━━\u001b[0m \u001b[32m117.8/117.8 kB\u001b[0m \u001b[31m7.9 MB/s\u001b[0m eta \u001b[36m0:00:00\u001b[0m\n",
            "\u001b[2K   \u001b[90m━━━━━━━━━━━━━━━━━━━━━━━━━━━━━━━━━━━━━━━━\u001b[0m \u001b[32m1.1/1.1 MB\u001b[0m \u001b[31m47.7 MB/s\u001b[0m eta \u001b[36m0:00:00\u001b[0m\n",
            "\u001b[2K   \u001b[90m━━━━━━━━━━━━━━━━━━━━━━━━━━━━━━━━━━━━━━━━\u001b[0m \u001b[32m58.3/58.3 kB\u001b[0m \u001b[31m3.9 MB/s\u001b[0m eta \u001b[36m0:00:00\u001b[0m\n",
            "\u001b[2K   \u001b[90m━━━━━━━━━━━━━━━━━━━━━━━━━━━━━━━━━━━━━━━━\u001b[0m \u001b[32m561.4/561.4 kB\u001b[0m \u001b[31m32.6 MB/s\u001b[0m eta \u001b[36m0:00:00\u001b[0m\n",
            "\u001b[2K   \u001b[90m━━━━━━━━━━━━━━━━━━━━━━━━━━━━━━━━━━━━━━━━\u001b[0m \u001b[32m1.7/1.7 MB\u001b[0m \u001b[31m61.6 MB/s\u001b[0m eta \u001b[36m0:00:00\u001b[0m\n",
            "\u001b[2K   \u001b[90m━━━━━━━━━━━━━━━━━━━━━━━━━━━━━━━━━━━━━━━━\u001b[0m \u001b[32m1.0/1.0 MB\u001b[0m \u001b[31m44.8 MB/s\u001b[0m eta \u001b[36m0:00:00\u001b[0m\n",
            "\u001b[2K   \u001b[90m━━━━━━━━━━━━━━━━━━━━━━━━━━━━━━━━━━━━━━━━\u001b[0m \u001b[32m526.7/526.7 kB\u001b[0m \u001b[31m31.3 MB/s\u001b[0m eta \u001b[36m0:00:00\u001b[0m\n",
            "\u001b[2K   \u001b[90m━━━━━━━━━━━━━━━━━━━━━━━━━━━━━━━━━━━━━━━━\u001b[0m \u001b[32m5.5/5.5 MB\u001b[0m \u001b[31m80.8 MB/s\u001b[0m eta \u001b[36m0:00:00\u001b[0m\n",
            "\u001b[2K   \u001b[90m━━━━━━━━━━━━━━━━━━━━━━━━━━━━━━━━━━━━━━━━\u001b[0m \u001b[32m442.0/442.0 kB\u001b[0m \u001b[31m25.6 MB/s\u001b[0m eta \u001b[36m0:00:00\u001b[0m\n",
            "\u001b[2K   \u001b[90m━━━━━━━━━━━━━━━━━━━━━━━━━━━━━━━━━━━━━━━━\u001b[0m \u001b[32m77.9/77.9 kB\u001b[0m \u001b[31m5.5 MB/s\u001b[0m eta \u001b[36m0:00:00\u001b[0m\n",
            "\u001b[2K   \u001b[90m━━━━━━━━━━━━━━━━━━━━━━━━━━━━━━━━━━━━━━━━\u001b[0m \u001b[32m82.1/82.1 kB\u001b[0m \u001b[31m6.7 MB/s\u001b[0m eta \u001b[36m0:00:00\u001b[0m\n",
            "\u001b[2K   \u001b[90m━━━━━━━━━━━━━━━━━━━━━━━━━━━━━━━━━━━━━━━━\u001b[0m \u001b[32m119.4/119.4 kB\u001b[0m \u001b[31m9.2 MB/s\u001b[0m eta \u001b[36m0:00:00\u001b[0m\n",
            "\u001b[2K   \u001b[90m━━━━━━━━━━━━━━━━━━━━━━━━━━━━━━━━━━━━━━━━\u001b[0m \u001b[32m134.8/134.8 kB\u001b[0m \u001b[31m10.7 MB/s\u001b[0m eta \u001b[36m0:00:00\u001b[0m\n",
            "\u001b[2K   \u001b[90m━━━━━━━━━━━━━━━━━━━━━━━━━━━━━━━━━━━━━━━━\u001b[0m \u001b[32m56.8/56.8 kB\u001b[0m \u001b[31m4.1 MB/s\u001b[0m eta \u001b[36m0:00:00\u001b[0m\n",
            "\u001b[?25h  Building wheel for slices (setup.py) ... \u001b[?25l\u001b[?25hdone\n",
            "  Building wheel for nvidia-ml-py3 (setup.py) ... \u001b[?25l\u001b[?25hdone\n",
            "\u001b[31mERROR: pip's dependency resolver does not currently take into account all the packages that are installed. This behaviour is the source of the following dependency conflicts.\n",
            "tensorstore 0.1.65 requires ml-dtypes>=0.3.1, but you have ml-dtypes 0.2.0 which is incompatible.\n",
            "tf-keras 2.17.0 requires tensorflow<2.18,>=2.17, but you have tensorflow 2.15.0 which is incompatible.\u001b[0m\u001b[31m\n",
            "\u001b[0m"
          ]
        }
      ]
    },
    {
      "cell_type": "code",
      "source": [
        "from slices.core import SLICES\n",
        "from pymatgen.core.structure import Structure\n",
        "\n",
        "# obtaining the pymatgen Structure of the cif\n",
        "original_structure = Structure.from_file(filename=cif_file)"
      ],
      "metadata": {
        "id": "UUozY9LgQfmn",
        "colab": {
          "base_uri": "https://localhost:8080/"
        },
        "outputId": "ecaa5717-7d5d-4dca-fbfb-639d1c36e5b1"
      },
      "execution_count": null,
      "outputs": [
        {
          "output_type": "stream",
          "name": "stderr",
          "text": [
            "WARNING:tensorflow:From /usr/local/lib/python3.10/dist-packages/tensorflow/python/util/deprecation.py:588: calling function (from tensorflow.python.eager.polymorphic_function.polymorphic_function) with experimental_relax_shapes is deprecated and will be removed in a future version.\n",
            "Instructions for updating:\n",
            "experimental_relax_shapes is deprecated, use reduce_retracing instead\n",
            "/usr/local/lib/python3.10/dist-packages/pymatgen/io/cif.py:1186: UserWarning: The default value of primitive was changed from True to False in https://github.com/materialsproject/pymatgen/pull/3419. CifParser now returns the cell in the CIF file as is. If you want the primitive cell, please set primitive=True explicitly.\n",
            "  warnings.warn(\n"
          ]
        }
      ]
    },
    {
      "cell_type": "code",
      "source": [
        "# create SLICES backend\n",
        "backend = SLICES()\n",
        "# converting a crystal structure to its SLICES string\n",
        "slices_string = backend.structure2SLICES(original_structure)"
      ],
      "metadata": {
        "id": "fTk5V1iBQmS8",
        "colab": {
          "base_uri": "https://localhost:8080/"
        },
        "outputId": "b1949ae3-b749-4745-9b1d-5840bf4b2490"
      },
      "execution_count": null,
      "outputs": [
        {
          "output_type": "stream",
          "name": "stdout",
          "text": [
            "CHGNet v0.3.0 initialized with 412,525 parameters\n",
            "CHGNet will run on cpu\n"
          ]
        },
        {
          "output_type": "stream",
          "name": "stderr",
          "text": [
            "/usr/local/lib/python3.10/dist-packages/pymatgen/analysis/local_env.py:4135: UserWarning: No oxidation states specified on sites! For better results, set the site oxidation states in the structure.\n",
            "  warnings.warn(\n",
            "/usr/local/lib/python3.10/dist-packages/pymatgen/analysis/local_env.py:3928: UserWarning: CrystalNN: cannot locate an appropriate radius, covalent or atomic radii will be used, this can lead to non-optimal results.\n",
            "  warnings.warn(\n"
          ]
        }
      ]
    },
    {
      "cell_type": "code",
      "source": [
        "print(slices_string)"
      ],
      "metadata": {
        "id": "2oGFu4dJQtWI",
        "colab": {
          "base_uri": "https://localhost:8080/"
        },
        "outputId": "21d233c6-f4a3-401e-ebc2-e3aee918e891"
      },
      "execution_count": null,
      "outputs": [
        {
          "output_type": "stream",
          "name": "stdout",
          "text": [
            "Si Os 0 1 +o+ 0 1 ++o 0 1 o++ 0 1 +oo 0 1 o+o 0 1 oo+ 0 1 ooo 0 1 +++ \n"
          ]
        }
      ]
    },
    {
      "cell_type": "code",
      "source": [
        "reconstructed_structure, _ = backend.SLICES2structure(slices_string)"
      ],
      "metadata": {
        "id": "w3I7Sev_Qvcj"
      },
      "execution_count": null,
      "outputs": []
    },
    {
      "cell_type": "code",
      "source": [
        "_atoms = reconstructed_structure.to_ase_atoms()"
      ],
      "metadata": {
        "id": "3DJQHPNDQ9j4"
      },
      "execution_count": null,
      "outputs": []
    },
    {
      "cell_type": "code",
      "source": [
        "view(_atoms, viewer='x3d')"
      ],
      "metadata": {
        "id": "DHDfCsC6SQzH",
        "colab": {
          "base_uri": "https://localhost:8080/",
          "height": 317
        },
        "outputId": "a408e95a-d256-46b5-baf8-d431cfd40251"
      },
      "execution_count": null,
      "outputs": [
        {
          "output_type": "execute_result",
          "data": {
            "text/plain": [
              "<IPython.core.display.HTML object>"
            ],
            "text/html": [
              "<html>\n",
              "    <head>\n",
              "        <title>ASE atomic visualization</title>\n",
              "        <link rel=\"stylesheet\" type=\"text/css\"             href=\"https://www.x3dom.org/release/x3dom.css\"></link>\n",
              "        <script type=\"text/javascript\"             src=\"https://www.x3dom.org/release/x3dom.js\"></script>\n",
              "    </head>\n",
              "    <body>\n",
              "        <X3D width=\"400px\"; height=\"300px\";>\n",
              "\n",
              "<!--Inserting Generated X3D Scene-->\n",
              "<scene>\n",
              "  <viewpoint position=\"0 0 8.877323921092438\">\n",
              "    <group/>\n",
              "  </viewpoint>\n",
              "  <transform translation=\"-1.4795539868487395 -1.4795539868487397 -1.4795539868487395\">\n",
              "    <group>\n",
              "      <group>\n",
              "        <transform translation=\"0 0 0\">\n",
              "          <shape>\n",
              "            <appearance>\n",
              "              <material diffuseColor=\"0 0 0\"/>\n",
              "            </appearance>\n",
              "            <lineset vertexCount=\"5\">\n",
              "              <coordinate point=\"0 0 0 2.959107973697479 0.0 0.0 2.959107973697479 2.9591079736974795 0.0 0.0 2.9591079736974795 0.0 0 0 0\"/>\n",
              "            </lineset>\n",
              "          </shape>\n",
              "        </transform>\n",
              "        <transform translation=\"0.0 0.0 2.959107973697479\">\n",
              "          <shape>\n",
              "            <appearance>\n",
              "              <material diffuseColor=\"0 0 0\"/>\n",
              "            </appearance>\n",
              "            <lineset vertexCount=\"5\">\n",
              "              <coordinate point=\"0 0 0 2.959107973697479 0.0 0.0 2.959107973697479 2.9591079736974795 0.0 0.0 2.9591079736974795 0.0 0 0 0\"/>\n",
              "            </lineset>\n",
              "          </shape>\n",
              "        </transform>\n",
              "        <transform translation=\"0 0 0\">\n",
              "          <shape>\n",
              "            <appearance>\n",
              "              <material diffuseColor=\"0 0 0\"/>\n",
              "            </appearance>\n",
              "            <lineset vertexCount=\"5\">\n",
              "              <coordinate point=\"0 0 0 2.959107973697479 0.0 0.0 2.959107973697479 0.0 2.959107973697479 0.0 0.0 2.959107973697479 0 0 0\"/>\n",
              "            </lineset>\n",
              "          </shape>\n",
              "        </transform>\n",
              "        <transform translation=\"0.0 2.9591079736974795 0.0\">\n",
              "          <shape>\n",
              "            <appearance>\n",
              "              <material diffuseColor=\"0 0 0\"/>\n",
              "            </appearance>\n",
              "            <lineset vertexCount=\"5\">\n",
              "              <coordinate point=\"0 0 0 2.959107973697479 0.0 0.0 2.959107973697479 0.0 2.959107973697479 0.0 0.0 2.959107973697479 0 0 0\"/>\n",
              "            </lineset>\n",
              "          </shape>\n",
              "        </transform>\n",
              "      </group>\n",
              "      <group>\n",
              "        <transform translation=\"0.0 0.0 0.0\">\n",
              "          <shape>\n",
              "            <appearance>\n",
              "              <material diffuseColor=\"0.941 0.784 0.627\"/>\n",
              "            </appearance>\n",
              "            <sphere radius=\"1.11\"/>\n",
              "          </shape>\n",
              "        </transform>\n",
              "        <transform translation=\"-1.4795539868487395 -1.4795539868487397 -1.4795539868487393\">\n",
              "          <shape>\n",
              "            <appearance>\n",
              "              <material diffuseColor=\"0.149 0.4 0.588\"/>\n",
              "            </appearance>\n",
              "            <sphere radius=\"1.44\"/>\n",
              "          </shape>\n",
              "        </transform>\n",
              "      </group>\n",
              "    </group>\n",
              "  </transform>\n",
              "</scene>\n",
              "<!--End of Inserted Scene-->\n",
              "\n",
              "        </X3D>\n",
              "    </body>\n",
              "</html>\n",
              "\n"
            ]
          },
          "metadata": {},
          "execution_count": 19
        }
      ]
    },
    {
      "cell_type": "markdown",
      "source": [
        "Note that SLICES' decoder automatically relaxes the input structure, therefore the decoded structure might resemble the original structure exactly."
      ],
      "metadata": {
        "id": "liNBAITZTgbN"
      }
    },
    {
      "cell_type": "code",
      "source": [],
      "metadata": {
        "id": "uNU0k9gcS6Dw"
      },
      "execution_count": null,
      "outputs": []
    }
  ]
}